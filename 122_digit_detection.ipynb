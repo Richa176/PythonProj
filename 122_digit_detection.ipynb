{
  "nbformat": 4,
  "nbformat_minor": 0,
  "metadata": {
    "colab": {
      "name": "122_digit_detection.ipynb",
      "provenance": [],
      "include_colab_link": true
    },
    "kernelspec": {
      "name": "python3",
      "display_name": "Python 3"
    }
  },
  "cells": [
    {
      "cell_type": "markdown",
      "metadata": {
        "id": "view-in-github",
        "colab_type": "text"
      },
      "source": [
        "<a href=\"https://colab.research.google.com/github/Richa176/PythonProj/blob/main/122_digit_detection.ipynb\" target=\"_parent\"><img src=\"https://colab.research.google.com/assets/colab-badge.svg\" alt=\"Open In Colab\"/></a>"
      ]
    },
    {
      "cell_type": "markdown",
      "metadata": {
        "id": "pimUvK_SBntM"
      },
      "source": [
        "# Logistic Regression for Image Classification\n",
        "\n",
        "We have already seen how powerful openCV can be, and we also know how to use it now. ***CV stands for computer vision***.\n",
        "\n",
        "We also know how Logistic Regression could be used to separate different outcomes. We have learnt about binary logistic regression where the outcome is always in True or False, but what if it's not?\n",
        "\n",
        "Don't worry! We got you covered. Today, we are going to see how we can make our computer detect a hand-written number.\n",
        "\n",
        "\\\n",
        "To get started, let's first import all the libraries that we will require to do this."
      ]
    },
    {
      "cell_type": "code",
      "metadata": {
        "id": "kKIbgm5j2eSv"
      },
      "source": [
        "import cv2\n",
        "import numpy as np\n",
        "import pandas as pd\n",
        "import seaborn as sns\n",
        "import matplotlib.pyplot as plt\n",
        "from sklearn.datasets import fetch_openml\n",
        "from sklearn.model_selection import train_test_split\n",
        "from sklearn.linear_model import LogisticRegression\n",
        "from sklearn.metrics import accuracy_score"
      ],
      "execution_count": 1,
      "outputs": []
    },
    {
      "cell_type": "markdown",
      "metadata": {
        "id": "Mtcw6D7sCZ4E"
      },
      "source": [
        "Let's go through these libraries one by one -\n",
        "\n",
        "\n",
        "1.   `import cv2` - This is the library with which we are going to use our computer's camera.\n",
        "2.   `import numpy as np` - This is so that we can perform complex mathematical/list operations\n",
        "3.   `import pandas as pd` - This is so that we can treat our data as DataFrames. We already know how helpful they are.\n",
        "4.   `import seaborn as sns` - This is a python module to prettify the charts that we draw with `matplotlib`. We have used it a couple of times.\n",
        "5.   `import matplotlib.pyplot as plt` - This library is used to draw the charts.\n",
        "6.   `from sklearn.datasets import fetch_openml` - This function allows us to retrieve a data set by name from OpenML, a public repository for machine learning data and experiments\n",
        "7.   `from sklearn.model_selection import train_test_split` - This is to split our data into training and testing.\n",
        "8.   `from sklearn.linear_model import LogisticRegression` - This is for creating a LogiticRegression Classifier\n",
        "9.   `from sklearn.metrics import accuracy_score` - This is to measure the accuracy score of the model.\n",
        "\n",
        "\n",
        "\n",
        "\n",
        "\n",
        "\n",
        "\n",
        "\n",
        "\n"
      ]
    },
    {
      "cell_type": "code",
      "metadata": {
        "id": "FZAlR40H2htn",
        "colab": {
          "base_uri": "https://localhost:8080/"
        },
        "outputId": "bb7c042b-9721-43eb-e329-4c9e34bc8ba5"
      },
      "source": [
        "X, y = fetch_openml('mnist_784', version=1, return_X_y=True)\n",
        "print(pd.Series(y).value_co0unts())\n",
        "classes = ['0', '1', '2','3', '4','5', '6', '7', '8', '9']\n",
        "nclasses = len(classes)"
      ],
      "execution_count": 5,
      "outputs": [
        {
          "output_type": "stream",
          "name": "stdout",
          "text": [
            "1    7877\n",
            "7    7293\n",
            "3    7141\n",
            "2    6990\n",
            "9    6958\n",
            "0    6903\n",
            "6    6876\n",
            "8    6825\n",
            "4    6824\n",
            "5    6313\n",
            "Name: class, dtype: int64\n"
          ]
        }
      ]
    },
    {
      "cell_type": "markdown",
      "metadata": {
        "id": "Yqe_ePDlx1GN"
      },
      "source": [
        "Here, we are using a dataset from OpenML where we have 70,000 images of hand-written digits.\n",
        "\n",
        "\\\n",
        "Let's go through this code line by line -\n",
        "\n",
        "\\\n",
        "As we know, we can represent any given image in the form of binary. Here in the first line of code -\n",
        "\n",
        "`X, y = fetch_openml('mnist_784', version=1, return_X_y=True)`\n",
        "\n",
        "We are fetching the dataset of images of handwritten digits from the OpenML datasets. The `X` here would be the data of images represented in Binary, while `y` would be the label of that image, i.e - 0, 1, 2, ..., 9\n",
        "\n",
        "With the second line of code, `print(pd.Series(y).value_counts())` it tells us the count of samples for each of the label. Here, we can see that label 1 has 7,877 samples, 2 has 6,990 samples and so on.\n",
        "\n",
        "Finally, we are creating a list that contains all the labels. Let's move on to the next chunk of code and explore how these samples look like"
      ]
    },
    {
      "cell_type": "code",
      "metadata": {
        "id": "unYMDQdQ973W",
        "colab": {
          "base_uri": "https://localhost:8080/",
          "height": 1000
        },
        "outputId": "27c93f34-42bd-4376-97fb-5bf376bcce59"
      },
      "source": [
        "samples_per_class = 5\n",
        "figure = plt.figure(figsize=(nclasses*2,(1+samples_per_class*2)))\n",
        "\n",
        "idx_cls = 0\n",
        "for cls in classes:\n",
        "  idxs = np.flatnonzero(y == cls)\n",
        "  idxs = np.random.choice(idxs, samples_per_class, replace=False)\n",
        "  i = 0\n",
        "  for idx in idxs:\n",
        "    plt_idx = i * nclasses + idx_cls + 1\n",
        "    p = plt.subplot(samples_per_class, nclasses, plt_idx);\n",
        "    p = sns.heatmap(np.array(X.loc[idx]).reshape(28,28), cmap=plt.cm.gray, \n",
        "             xticklabels=False, yticklabels=False, cbar=False);\n",
        "    p = plt.axis('off');\n",
        "    i += 1\n",
        "  idx_cls += 1\n",
        "\n",
        "idxs = np.flatnonzero(y == '0')\n",
        "print(np.array(X.loc[idxs[0]]))"
      ],
      "execution_count": 7,
      "outputs": [
        {
          "output_type": "stream",
          "name": "stdout",
          "text": [
            "[  0.   0.   0.   0.   0.   0.   0.   0.   0.   0.   0.   0.   0.   0.\n",
            "   0.   0.   0.   0.   0.   0.   0.   0.   0.   0.   0.   0.   0.   0.\n",
            "   0.   0.   0.   0.   0.   0.   0.   0.   0.   0.   0.   0.   0.   0.\n",
            "   0.   0.   0.   0.   0.   0.   0.   0.   0.   0.   0.   0.   0.   0.\n",
            "   0.   0.   0.   0.   0.   0.   0.   0.   0.   0.   0.   0.   0.   0.\n",
            "   0.   0.   0.   0.   0.   0.   0.   0.   0.   0.   0.   0.   0.   0.\n",
            "   0.   0.   0.   0.   0.   0.   0.   0.   0.   0.   0.   0.   0.   0.\n",
            "   0.   0.   0.   0.   0.   0.   0.   0.   0.   0.   0.   0.   0.   0.\n",
            "   0.   0.   0.   0.   0.   0.   0.   0.   0.   0.   0.   0.   0.   0.\n",
            "   0.  51. 159. 253. 159.  50.   0.   0.   0.   0.   0.   0.   0.   0.\n",
            "   0.   0.   0.   0.   0.   0.   0.   0.   0.   0.   0.   0.   0.   0.\n",
            "  48. 238. 252. 252. 252. 237.   0.   0.   0.   0.   0.   0.   0.   0.\n",
            "   0.   0.   0.   0.   0.   0.   0.   0.   0.   0.   0.   0.   0.  54.\n",
            " 227. 253. 252. 239. 233. 252.  57.   6.   0.   0.   0.   0.   0.   0.\n",
            "   0.   0.   0.   0.   0.   0.   0.   0.   0.   0.   0.  10.  60. 224.\n",
            " 252. 253. 252. 202.  84. 252. 253. 122.   0.   0.   0.   0.   0.   0.\n",
            "   0.   0.   0.   0.   0.   0.   0.   0.   0.   0.   0. 163. 252. 252.\n",
            " 252. 253. 252. 252.  96. 189. 253. 167.   0.   0.   0.   0.   0.   0.\n",
            "   0.   0.   0.   0.   0.   0.   0.   0.   0.   0.  51. 238. 253. 253.\n",
            " 190. 114. 253. 228.  47.  79. 255. 168.   0.   0.   0.   0.   0.   0.\n",
            "   0.   0.   0.   0.   0.   0.   0.   0.   0.  48. 238. 252. 252. 179.\n",
            "  12.  75. 121.  21.   0.   0. 253. 243.  50.   0.   0.   0.   0.   0.\n",
            "   0.   0.   0.   0.   0.   0.   0.   0.  38. 165. 253. 233. 208.  84.\n",
            "   0.   0.   0.   0.   0.   0. 253. 252. 165.   0.   0.   0.   0.   0.\n",
            "   0.   0.   0.   0.   0.   0.   0.   7. 178. 252. 240.  71.  19.  28.\n",
            "   0.   0.   0.   0.   0.   0. 253. 252. 195.   0.   0.   0.   0.   0.\n",
            "   0.   0.   0.   0.   0.   0.   0.  57. 252. 252.  63.   0.   0.   0.\n",
            "   0.   0.   0.   0.   0.   0. 253. 252. 195.   0.   0.   0.   0.   0.\n",
            "   0.   0.   0.   0.   0.   0.   0. 198. 253. 190.   0.   0.   0.   0.\n",
            "   0.   0.   0.   0.   0.   0. 255. 253. 196.   0.   0.   0.   0.   0.\n",
            "   0.   0.   0.   0.   0.   0.  76. 246. 252. 112.   0.   0.   0.   0.\n",
            "   0.   0.   0.   0.   0.   0. 253. 252. 148.   0.   0.   0.   0.   0.\n",
            "   0.   0.   0.   0.   0.   0.  85. 252. 230.  25.   0.   0.   0.   0.\n",
            "   0.   0.   0.   0.   7. 135. 253. 186.  12.   0.   0.   0.   0.   0.\n",
            "   0.   0.   0.   0.   0.   0.  85. 252. 223.   0.   0.   0.   0.   0.\n",
            "   0.   0.   0.   7. 131. 252. 225.  71.   0.   0.   0.   0.   0.   0.\n",
            "   0.   0.   0.   0.   0.   0.  85. 252. 145.   0.   0.   0.   0.   0.\n",
            "   0.   0.  48. 165. 252. 173.   0.   0.   0.   0.   0.   0.   0.   0.\n",
            "   0.   0.   0.   0.   0.   0.  86. 253. 225.   0.   0.   0.   0.   0.\n",
            "   0. 114. 238. 253. 162.   0.   0.   0.   0.   0.   0.   0.   0.   0.\n",
            "   0.   0.   0.   0.   0.   0.  85. 252. 249. 146.  48.  29.  85. 178.\n",
            " 225. 253. 223. 167.  56.   0.   0.   0.   0.   0.   0.   0.   0.   0.\n",
            "   0.   0.   0.   0.   0.   0.  85. 252. 252. 252. 229. 215. 252. 252.\n",
            " 252. 196. 130.   0.   0.   0.   0.   0.   0.   0.   0.   0.   0.   0.\n",
            "   0.   0.   0.   0.   0.   0.  28. 199. 252. 252. 253. 252. 252. 233.\n",
            " 145.   0.   0.   0.   0.   0.   0.   0.   0.   0.   0.   0.   0.   0.\n",
            "   0.   0.   0.   0.   0.   0.   0.  25. 128. 252. 253. 252. 141.  37.\n",
            "   0.   0.   0.   0.   0.   0.   0.   0.   0.   0.   0.   0.   0.   0.\n",
            "   0.   0.   0.   0.   0.   0.   0.   0.   0.   0.   0.   0.   0.   0.\n",
            "   0.   0.   0.   0.   0.   0.   0.   0.   0.   0.   0.   0.   0.   0.\n",
            "   0.   0.   0.   0.   0.   0.   0.   0.   0.   0.   0.   0.   0.   0.\n",
            "   0.   0.   0.   0.   0.   0.   0.   0.   0.   0.   0.   0.   0.   0.\n",
            "   0.   0.   0.   0.   0.   0.   0.   0.   0.   0.   0.   0.   0.   0.\n",
            "   0.   0.   0.   0.   0.   0.   0.   0.   0.   0.   0.   0.   0.   0.\n",
            "   0.   0.   0.   0.   0.   0.   0.   0.   0.   0.   0.   0.   0.   0.\n",
            "   0.   0.   0.   0.   0.   0.   0.   0.   0.   0.   0.   0.   0.   0.]\n"
          ]
        },
        {
          "output_type": "display_data",
          "data": {
            "text/plain": [
              "<Figure size 720x720 with 50 Axes>"
            ],
            "image/png": "[encoded data removed]"
          },
          "metadata": {}
        }
      ]
    },
    {
      "cell_type": "markdown",
      "metadata": {
        "id": "mBPSeO827tO7"
      },
      "source": [
        "Here, we are representing 5 samples of each of the labels. Let's break this down line by line.\n",
        "\n",
        "\\\n",
        "With the first line of code - We are saying that we want to display 5 samples per labels.\n",
        "\n",
        "\\\n",
        "Next, with `figure = plt.figure(figsize=(nclasses*2,(1+samples_per_class*2)))`, we are setting up the total size of the figure that we plotted above.\n",
        "\n",
        "\\\n",
        "Now we get into a loop where we are iterating over the classes that we created earlier, which was a list of all the labels (0, 1, 2, ..., 9)\n",
        "\n",
        "\\\n",
        "We are first filtering out all the indexes of the elements with value equal to our label with `idxs = np.flatnonzero(y == cls)` and then we are selecting any 5 random indexes with `np.random.choice(idxs, samples_per_class, replace=False)`\n",
        "\n",
        "\\\n",
        "We are then iterating over these random indexes for the given label. First, we are doing `plt_idx = i * nclasses + idx_cls + 1` to define the position of the given label. Here, the `idx_cls` acts as the column while `i` acts as the rows. For all the samples of label 0 that we are plotting, the column `idx_cls` would remain to be the same while the row `i` will change. This helps us form a grid of samples while plotting.\n",
        "\n",
        "\\\n",
        "Now, we have the index of the random sample of the label, but how are we plotting it? We are creating a heatmap to plot the image with \n",
        "\n",
        "`p = sns.heatmap(np.reshape(X[idx], (28,28)), cmap=plt.cm.gray, xticklabels=False, yticklabels=False, cbar=False);`\n",
        "\n",
        "Here, we are taking the index `idx` and fetching it's element from `X`, and we are reshaping it in a 28*28 grid. Remember, images here are represented as binary. Let's cross verify the same for `X`."
      ]
    },
    {
      "cell_type": "code",
      "metadata": {
        "id": "sMs6DMfF0QTy",
        "colab": {
          "base_uri": "https://localhost:8080/"
        },
        "outputId": "3c1efc4f-9756-4c1f-c214-190570ceda8a"
      },
      "source": [
        "print(len(X))\n",
        "print(len(X.loc[0]))"
      ],
      "execution_count": 8,
      "outputs": [
        {
          "output_type": "stream",
          "name": "stdout",
          "text": [
            "70000\n",
            "784\n"
          ]
        }
      ]
    },
    {
      "cell_type": "markdown",
      "metadata": {
        "id": "6NCi2rBQyhhe"
      },
      "source": [
        "Here, we can see that `X` has 70,000 image data and each image has 784 pixels of data, which is equivalent to `28*28`.\n",
        "\n",
        "\\\n",
        "Now let's prepare the data by splitting it and train a Logistic Regression Model but before that, let's check the array of a particular image."
      ]
    },
    {
      "cell_type": "markdown",
      "metadata": {
        "id": "RoBqhHLF2BoA"
      },
      "source": [
        "As we can see, the given label we printed is 5, and we can also make out 5 from the array printed above. The maximum values we have in this array could be 255 (Array consists of numbers from 0 to 255).\n",
        "\n",
        "\\\n",
        "To scale these values, we will have to divide it by 255 so that all the features of an image could be represented with values between 0 and 1."
      ]
    },
    {
      "cell_type": "code",
      "metadata": {
        "id": "aMWZJy1w0r6a"
      },
      "source": [
        "X_train, X_test, y_train, y_test = train_test_split(X, y, random_state=9, train_size=7500, test_size=2500)\n",
        "\n",
        "#scaling the features\n",
        "X_train_scaled = X_train/255.0\n",
        "X_test_scaled = X_test/255.0"
      ],
      "execution_count": 11,
      "outputs": []
    },
    {
      "cell_type": "code",
      "metadata": {
        "id": "vWKhwPOdqznb",
        "colab": {
          "base_uri": "https://localhost:8080/"
        },
        "outputId": "6fbe1fc1-40db-4061-8220-f0bd4506b7d3"
      },
      "source": [
        "print(X.loc[0])\n",
        "print(y.loc[0])"
      ],
      "execution_count": 12,
      "outputs": [
        {
          "output_type": "stream",
          "name": "stdout",
          "text": [
            "pixel1      0.0\n",
            "pixel2      0.0\n",
            "pixel3      0.0\n",
            "pixel4      0.0\n",
            "pixel5      0.0\n",
            "           ... \n",
            "pixel780    0.0\n",
            "pixel781    0.0\n",
            "pixel782    0.0\n",
            "pixel783    0.0\n",
            "pixel784    0.0\n",
            "Name: 0, Length: 784, dtype: float64\n",
            "5\n"
          ]
        }
      ]
    },
    {
      "cell_type": "markdown",
      "metadata": {
        "id": "MMN8Bt-E2kh_"
      },
      "source": [
        "Here, we are going to use a total of 10000 samples since computing 70,000 samples might take a lot of time. For this, we have split our data into 7500 for training and 2500 for testing.\n",
        "\n",
        "\\\n",
        "We then simply divide our training and testing data by 255 to scale it and have values between 0 and 1. Let's train a Logistic Regression model with this data."
      ]
    },
    {
      "cell_type": "code",
      "metadata": {
        "id": "am6I9TAt2jez",
        "colab": {
          "base_uri": "https://localhost:8080/"
        },
        "outputId": "a797d448-6b93-48bd-e9f2-0a27d0d1b923"
      },
      "source": [
        "clf = LogisticRegression(solver='saga', multi_class='multinomial').fit(X_train_scaled, y_train)"
      ],
      "execution_count": 14,
      "outputs": [
        {
          "output_type": "stream",
          "name": "stderr",
          "text": [
            "/usr/local/lib/python3.7/dist-packages/sklearn/linear_model/_sag.py:354: ConvergenceWarning: The max_iter was reached which means the coef_ did not converge\n",
            "  ConvergenceWarning,\n"
          ]
        }
      ]
    },
    {
      "cell_type": "markdown",
      "metadata": {
        "id": "Y1WTw8iH7Mee"
      },
      "source": [
        "Until now, we were dealing with binary logistic regressions, but here, we have 10 labels, 0 to 9. For this, we write `multi_class='multinomial'` to specify that this is a `multinomial` logistic regression.\n",
        "\n",
        "\\\n",
        "Generally, there is a solver involved in all the logistic regressions, and the default solver is `liblinear`, which is highly efficient for linear logistic regression. This is also efficient with binary logistic regressions that we learnt earlier. For `multinomial` logistic regression, `solver='saga'` is highly efficient. It works well with large number of samples and supports `multinomial` logistic regressions, like this one.\n",
        "\n",
        "\\\n",
        "Now that we have built a model, let's see how well it performs -"
      ]
    },
    {
      "cell_type": "code",
      "metadata": {
        "id": "ozJFsxj96pam",
        "colab": {
          "base_uri": "https://localhost:8080/"
        },
        "outputId": "4ec6283e-c696-4007-8dc4-e6673d5000cd"
      },
      "source": [
        "y_pred = clf.predict(X_test_scaled)\n",
        "\n",
        "accuracy = accuracy_score(y_test, y_pred)\n",
        "print(accuracy)"
      ],
      "execution_count": 15,
      "outputs": [
        {
          "output_type": "stream",
          "name": "stdout",
          "text": [
            "0.9008\n"
          ]
        }
      ]
    },
    {
      "cell_type": "markdown",
      "metadata": {
        "id": "4vK7NZqP9qS8"
      },
      "source": [
        "We have an accuracy score of 90.04%. Looks like an extremely efficient model. Let's check how it's confusion matrix looks like -"
      ]
    },
    {
      "cell_type": "code",
      "metadata": {
        "id": "gp13OIYP9oPz",
        "colab": {
          "base_uri": "https://localhost:8080/",
          "height": 606
        },
        "outputId": "b6a97b87-ee19-4f62-d3b7-972bf5d32c7f"
      },
      "source": [
        "cm = pd.crosstab(y_test, y_pred, rownames=['Actual'], colnames=['Predicted'])\n",
        "\n",
        "p = plt.figure(figsize=(10,10));\n",
        "p = sns.heatmap(cm, annot=True, fmt=\"d\", cbar=False)"
      ],
      "execution_count": 16,
      "outputs": [
        {
          "output_type": "display_data",
          "data": {
            "text/plain": [
              "<Figure size 720x720 with 1 Axes>"
            ],
            "image/png": "[encoded data removed]"
          },
          "metadata": {
            "needs_background": "light"
          }
        }
      ]
    },
    {
      "cell_type": "markdown",
      "metadata": {
        "id": "Xb2l-xkW-EG6"
      },
      "source": [
        "Here, we are creating an array with `cm = pd.crosstab(y_test, y_pred, rownames=['Actual'], colnames=['Predicted'])` and setting it's size to be 10*10.\n",
        "\n",
        "\\\n",
        "We are finally plotting the graph with sns, which is used to prettify the charts that we draw with matplotlib.\n",
        "\n",
        "\\\n",
        "Finally, it's time to integrate our code with our camera, so that our model can detect the digit we write on a piece of paper using the model we just trained.\n",
        "\n",
        "\\\n",
        "For that, we'll have to switch back to our devices and do the same."
      ]
    }
  ]
}